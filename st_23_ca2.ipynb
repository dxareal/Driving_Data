{
  "nbformat": 4,
  "nbformat_minor": 0,
  "metadata": {
    "colab": {
      "provenance": [],
      "include_colab_link": true
    },
    "kernelspec": {
      "name": "python3",
      "display_name": "Python 3"
    },
    "language_info": {
      "name": "python"
    }
  },
  "cells": [
    {
      "cell_type": "markdown",
      "metadata": {
        "id": "view-in-github",
        "colab_type": "text"
      },
      "source": [
        "<a href=\"https://colab.research.google.com/github/dxareal/Driving_Data/blob/main/st_23_ca2.ipynb\" target=\"_parent\"><img src=\"https://colab.research.google.com/assets/colab-badge.svg\" alt=\"Open In Colab\"/></a>"
      ]
    },
    {
      "cell_type": "markdown",
      "source": [
        "# We are using Github Copilot and ChatGPT"
      ],
      "metadata": {
        "id": "S7zjlYD9ZJYc"
      }
    },
    {
      "cell_type": "code",
      "execution_count": 21,
      "metadata": {
        "id": "9YbmQ455Y9xW",
        "colab": {
          "base_uri": "https://localhost:8080/"
        },
        "outputId": "d7647834-9f71-4583-f642-4e252eece895"
      },
      "outputs": [
        {
          "output_type": "stream",
          "name": "stdout",
          "text": [
            "fatal: destination path 'Driving_Data' already exists and is not an empty directory.\n"
          ]
        }
      ],
      "source": [
        "# Clone data from public repo\n",
        "!git clone https://github.com/dxareal/Driving_Data.git"
      ]
    },
    {
      "cell_type": "code",
      "source": [
        "import numpy as np\n",
        "import os, cv2\n",
        "import pandas as pd\n",
        "import matplotlib.pyplot as plt\n",
        "import matplotlib.image as mpimg\n",
        "import time\n",
        "import keras\n",
        "from keras.models import Sequential\n",
        "from keras.optimizers import Adam\n",
        "from keras.layers import Convolution2D, Flatten, Dense, Dropout\n",
        "import tensorflow as tf"
      ],
      "metadata": {
        "id": "EN6yNFmSZT8J"
      },
      "execution_count": 22,
      "outputs": []
    },
    {
      "cell_type": "code",
      "source": [
        "DATA_BASE_PATH = 'Driving_Data'\n",
        "\n",
        "# Track paths always have 'forward', 'backward' and 'lane_correction' folders\n",
        "TRACK_1_PATH = os.path.join(DATA_BASE_PATH, 'Track_1')\n",
        "TRACK_2_CENTER_PATH = os.path.join(DATA_BASE_PATH, 'Track_2/center')\n",
        "TRACK_2_LEFT_PATH = os.path.join(DATA_BASE_PATH, 'Track_2/left_lane')\n",
        "\n",
        "DATA_FOLDERS = ['forward', 'backward', 'lane_correction']\n",
        "\n",
        "LOG_FILE = 'driving_log.csv'\n",
        "IMG_FOLDER = 'IMG'\n",
        "\n",
        "COLUMNS = ['center', 'left', 'right', 'steering', 'throttle', 'reverse', 'speed']"
      ],
      "metadata": {
        "id": "snwXd2iicYX0"
      },
      "execution_count": 23,
      "outputs": []
    },
    {
      "cell_type": "code",
      "source": [
        "def main():\n",
        "    track_1_data = process_track_data(TRACK_1_PATH)\n",
        "    #track_2_data = process_track_data(TRACK_2_CENTER_PATH)\n",
        "\n",
        "    print(track_1_data.head())\n",
        "    print(track_1_data.shape)\n",
        "\n",
        "    # print(track_2_data.head())\n",
        "    # print(track_2_data.shape)"
      ],
      "metadata": {
        "id": "fyUggFpGcbkS"
      },
      "execution_count": 24,
      "outputs": []
    },
    {
      "cell_type": "code",
      "source": [
        "# https://arxiv.org/pdf/1604.07316v1.pdf\n",
        "def nvidia_model():\n",
        "    model = Sequential()\n",
        "    model.add(Convolution2D(24, kernel_size=(5,5), strides=(2,2), input_shape=(66, 200, 3), activation='elu'))\n",
        "    model.add(Convolution2D(36, kernel_size=(5,5), strides=(2,2), activation='elu'))\n",
        "    model.add(Convolution2D(48, kernel_size=(5,5), strides=(2,2), activation='elu'))\n",
        "    model.add(Convolution2D(64, kernel_size=(3,3), activation='elu'))\n",
        "    model.add(Convolution2D(64, kernel_size=(3,3), activation='elu'))\n",
        "    model.add(Dropout(0.5))\n",
        "    model.add(Flatten())\n",
        "    model.add(Dense(100, activation = 'elu'))\n",
        "    model.add(Dropout(0.5))\n",
        "    model.add(Dense(50, activation = 'elu'))\n",
        "    model.add(Dropout(0.5))\n",
        "    model.add(Dense(10, activation = 'elu'))\n",
        "    model.add(Dropout(0.5))\n",
        "    model.add(Dense(1))\n",
        "\n",
        "    optimizer = Adam(learning_rate = 0.001)\n",
        "    model.compile(loss='mse', optimizer = optimizer, metrics=['accuracy'])\n",
        "    return model"
      ],
      "metadata": {
        "id": "RbKYQMAEZWhe"
      },
      "execution_count": 25,
      "outputs": []
    },
    {
      "cell_type": "code",
      "source": [
        "def img_preprocess(img):\n",
        "    img = mpimg.imread(img)\n",
        "    img = img[60:135, :, :]\n",
        "    img = cv2.cvtColor(img, cv2.COLOR_RGB2YUV)\n",
        "    img = cv2.GaussianBlur(img, (3,3), 0)\n",
        "    img = cv2.resize(img, (200, 66))\n",
        "    img = img/255\n",
        "    return img"
      ],
      "metadata": {
        "id": "8RmVP_YfbiVA"
      },
      "execution_count": 26,
      "outputs": []
    },
    {
      "cell_type": "code",
      "source": [
        "def path_leaf(path):\n",
        "    head, tail = os.path.split(path)\n",
        "    return tail\n",
        "\n",
        "def adjust_path(image_path, track_path, folder):\n",
        "    return os.path.join(track_path, folder, IMG_FOLDER, path_leaf(image_path))"
      ],
      "metadata": {
        "id": "lXdlZ8PMcTBm"
      },
      "execution_count": 27,
      "outputs": []
    },
    {
      "cell_type": "code",
      "source": [
        "def process_track_data(track_path):\n",
        "    data = pd.DataFrame()  # Initialize an empty DataFrame\n",
        "    for folder in DATA_FOLDERS:\n",
        "        data_path = os.path.join(track_path, folder, LOG_FILE)\n",
        "        folder_data = pd.read_csv(data_path, names=COLUMNS)\n",
        "        folder_data['center'] = folder_data['center'].apply(adjust_path, track_path=track_path, folder=folder)\n",
        "        folder_data['left'] = folder_data['left'].apply(adjust_path, track_path=track_path, folder=folder)\n",
        "        folder_data['right'] = folder_data['right'].apply(adjust_path, track_path=track_path, folder=folder)\n",
        "        data = pd.concat([data, folder_data])  # Append the data from the current folder#\n",
        "        data.reset_index(drop=True, inplace=True)  # Reset the index of the combined DataFrame\n",
        "    return data"
      ],
      "metadata": {
        "id": "j6BGXfIjcpHa"
      },
      "execution_count": 28,
      "outputs": []
    },
    {
      "cell_type": "code",
      "source": [
        "main()"
      ],
      "metadata": {
        "colab": {
          "base_uri": "https://localhost:8080/"
        },
        "id": "zhLX9oQNdDWN",
        "outputId": "86dad1fb-8cb1-4a0b-9bda-b33e465d5e48"
      },
      "execution_count": 29,
      "outputs": [
        {
          "output_type": "stream",
          "name": "stdout",
          "text": [
            "                                              center  \\\n",
            "0  Driving_Data/Track_1/forward/IMG/D:\\auto_files...   \n",
            "1  Driving_Data/Track_1/forward/IMG/D:\\auto_files...   \n",
            "2  Driving_Data/Track_1/forward/IMG/D:\\auto_files...   \n",
            "3  Driving_Data/Track_1/forward/IMG/D:\\auto_files...   \n",
            "4  Driving_Data/Track_1/forward/IMG/D:\\auto_files...   \n",
            "\n",
            "                                                left  \\\n",
            "0  Driving_Data/Track_1/forward/IMG/D:\\auto_files...   \n",
            "1  Driving_Data/Track_1/forward/IMG/D:\\auto_files...   \n",
            "2  Driving_Data/Track_1/forward/IMG/D:\\auto_files...   \n",
            "3  Driving_Data/Track_1/forward/IMG/D:\\auto_files...   \n",
            "4  Driving_Data/Track_1/forward/IMG/D:\\auto_files...   \n",
            "\n",
            "                                               right  steering  throttle  \\\n",
            "0  Driving_Data/Track_1/forward/IMG/D:\\auto_files...       0.0       0.0   \n",
            "1  Driving_Data/Track_1/forward/IMG/D:\\auto_files...       0.0       0.0   \n",
            "2  Driving_Data/Track_1/forward/IMG/D:\\auto_files...       0.0       0.0   \n",
            "3  Driving_Data/Track_1/forward/IMG/D:\\auto_files...       0.0       0.0   \n",
            "4  Driving_Data/Track_1/forward/IMG/D:\\auto_files...       0.0       0.0   \n",
            "\n",
            "   reverse     speed  \n",
            "0      0.0  0.000018  \n",
            "1      0.0  0.000011  \n",
            "2      0.0  0.000003  \n",
            "3      0.0  0.000003  \n",
            "4      0.0  0.000010  \n",
            "(8338, 7)\n"
          ]
        }
      ]
    }
  ]
}